{
  "nbformat": 4,
  "nbformat_minor": 0,
  "metadata": {
    "colab": {
      "provenance": [],
      "gpuType": "T4"
    },
    "kernelspec": {
      "name": "python3",
      "display_name": "Python 3"
    },
    "language_info": {
      "name": "python"
    },
    "accelerator": "GPU"
  },
  "cells": [
    {
      "cell_type": "markdown",
      "source": [
        "# Installing dependencies"
      ],
      "metadata": {
        "id": "7xusWNdn9hmK"
      }
    },
    {
      "cell_type": "code",
      "execution_count": null,
      "metadata": {
        "id": "IcCNJ-XJkdHk"
      },
      "outputs": [],
      "source": [
        "!pip install -q langchain\n",
        "!pip install -q torch\n",
        "!pip install -q transformers\n",
        "!pip install -q sentence-transformers\n",
        "!pip install -q datasets\n",
        "!pip install -q faiss-cpu\n",
        "!pip install -U langchain-community\n",
        "!pip install pypdf\n",
        "\n",
        "from IPython.display import clear_output\n",
        "clear_output()"
      ]
    },
    {
      "cell_type": "code",
      "source": [
        "import os\n",
        "from urllib.request import urlretrieve\n",
        "import numpy as np\n",
        "from langchain_community.embeddings import HuggingFaceBgeEmbeddings\n",
        "from langchain_community.llms import HuggingFacePipeline\n",
        "from langchain_community.document_loaders import PyPDFLoader, PyPDFDirectoryLoader\n",
        "from langchain.text_splitter import RecursiveCharacterTextSplitter\n",
        "from langchain_community.vectorstores import FAISS\n",
        "from langchain.chains import RetrievalQA\n",
        "from langchain.prompts import PromptTemplate"
      ],
      "metadata": {
        "id": "a6A7RZ-lkyre"
      },
      "execution_count": null,
      "outputs": []
    },
    {
      "cell_type": "markdown",
      "source": [
        "# Downloading data"
      ],
      "metadata": {
        "id": "NF_czqVz9rqx"
      }
    },
    {
      "cell_type": "code",
      "source": [
        "# Download documents from U.S. Census Bureau to local directory.\n",
        "os.makedirs(\"us_census\", exist_ok=True)\n",
        "files = [\n",
        "    \"https://www.census.gov/content/dam/Census/library/publications/2022/demo/p70-178.pdf\",\n",
        "    \"https://www.census.gov/content/dam/Census/library/publications/2023/acs/acsbr-017.pdf\",\n",
        "    \"https://www.census.gov/content/dam/Census/library/publications/2023/acs/acsbr-016.pdf\",\n",
        "    \"https://www.census.gov/content/dam/Census/library/publications/2023/acs/acsbr-015.pdf\",\n",
        "]\n",
        "for url in files:\n",
        "    file_path = os.path.join(\"us_census\", url.rpartition(\"/\")[2])\n",
        "    urlretrieve(url, file_path)"
      ],
      "metadata": {
        "id": "tART2afeocnb"
      },
      "execution_count": null,
      "outputs": []
    },
    {
      "cell_type": "code",
      "source": [
        "# Load pdf files in the local directory\n",
        "loader = PyPDFDirectoryLoader(\"./us_census/\")\n",
        "\n",
        "docs_before_split = loader.load()\n",
        "text_splitter = RecursiveCharacterTextSplitter(\n",
        "    chunk_size = 700,\n",
        "    chunk_overlap  = 50,\n",
        ")\n",
        "docs_after_split = text_splitter.split_documents(docs_before_split)\n",
        "\n",
        "docs_after_split[0]"
      ],
      "metadata": {
        "colab": {
          "base_uri": "https://localhost:8080/"
        },
        "id": "JhAUS47nodKD",
        "outputId": "dfa3a316-9049-44d2-cb87-362a48950afa"
      },
      "execution_count": null,
      "outputs": [
        {
          "output_type": "execute_result",
          "data": {
            "text/plain": [
              "Document(metadata={'source': 'us_census/acsbr-015.pdf', 'page': 0}, page_content='Health Insurance Coverage Status and Type \\nby Geography: 2021 and 2022\\nAmerican Community Survey Briefs\\nACSBR-015Issued September 2023Douglas Conway and Breauna Branch\\nINTRODUCTION\\nDemographic shifts as well as economic and govern-\\nment policy changes can affect people’s access to health coverage. For example, between 2021 and 2022, the labor market continued to improve, which may have affected private coverage in the United States \\nduring that time.\\n1 Public policy changes included \\nthe renewal of the Public Health Emergency, which \\nallowed Medicaid enrollees to remain covered under the Continuous Enrollment Provision.\\n2 The American')"
            ]
          },
          "metadata": {},
          "execution_count": 4
        }
      ]
    },
    {
      "cell_type": "code",
      "source": [
        "avg_doc_length = lambda docs: sum([len(doc.page_content) for doc in docs])//len(docs)\n",
        "avg_char_before_split = avg_doc_length(docs_before_split)\n",
        "avg_char_after_split = avg_doc_length(docs_after_split)\n",
        "\n",
        "print(f'Before split, there were {len(docs_before_split)} documents loaded, with average characters equal to {avg_char_before_split}.')\n",
        "print(f'After split, there were {len(docs_after_split)} documents (chunks), with average characters equal to {avg_char_after_split} (average chunk length).')"
      ],
      "metadata": {
        "colab": {
          "base_uri": "https://localhost:8080/"
        },
        "id": "ZNd_QjOmw2wm",
        "outputId": "e8aa6b6c-2a7d-484f-949f-1ade2e850f6e"
      },
      "execution_count": null,
      "outputs": [
        {
          "output_type": "stream",
          "name": "stdout",
          "text": [
            "Before split, there were 63 documents loaded, with average characters equal to 3830.\n",
            "After split, there were 400 documents (chunks), with average characters equal to 618 (average chunk length).\n"
          ]
        }
      ]
    },
    {
      "cell_type": "markdown",
      "source": [
        "# Embeddings using Sentence transformers (HF)"
      ],
      "metadata": {
        "id": "626vQpgI90k7"
      }
    },
    {
      "cell_type": "code",
      "source": [
        "huggingface_embeddings = HuggingFaceBgeEmbeddings(\n",
        "    # model_name=\"BAAI/bge-small-en-v1.5\",\n",
        "    model_name = \"sentence-transformers/all-MiniLM-l6-v2\", # For light and faster experience.\n",
        "    model_kwargs = {'device':0},\n",
        "    encode_kwargs = {'normalize_embeddings': True}\n",
        ")"
      ],
      "metadata": {
        "colab": {
          "base_uri": "https://localhost:8080/"
        },
        "id": "ScBMvM3bxIh5",
        "outputId": "8e6a19a3-3094-4c9b-b6aa-3935eaba40bc"
      },
      "execution_count": null,
      "outputs": [
        {
          "output_type": "stream",
          "name": "stderr",
          "text": [
            "/usr/local/lib/python3.10/dist-packages/sentence_transformers/cross_encoder/CrossEncoder.py:11: TqdmExperimentalWarning: Using `tqdm.autonotebook.tqdm` in notebook mode. Use `tqdm.tqdm` instead to force console mode (e.g. in jupyter console)\n",
            "  from tqdm.autonotebook import tqdm, trange\n"
          ]
        }
      ]
    },
    {
      "cell_type": "code",
      "source": [
        "sample_embedding = np.array(huggingface_embeddings.embed_query(docs_after_split[0].page_content))\n",
        "print(\"Sample embedding of a document chunk: \", sample_embedding)\n",
        "print(\"Size of the embedding: \", sample_embedding.shape)"
      ],
      "metadata": {
        "colab": {
          "base_uri": "https://localhost:8080/"
        },
        "id": "z-0JjKkaxYDm",
        "outputId": "d35d5cca-1a44-4c34-dd72-44de8eab77e9"
      },
      "execution_count": null,
      "outputs": [
        {
          "output_type": "stream",
          "name": "stdout",
          "text": [
            "Sample embedding of a document chunk:  [ 3.62205021e-02  2.08621453e-02  6.65481910e-02  6.49368623e-03\n",
            "  6.40590861e-02  1.03430465e-01 -2.49341391e-02 -1.88159440e-02\n",
            " -8.36598873e-02  4.00242731e-02 -2.08017379e-02  1.11279137e-01\n",
            " -6.59805955e-03 -7.69475773e-02  2.79084388e-02 -5.11178700e-03\n",
            " -1.75802317e-02 -2.69326456e-02 -2.69205794e-02  6.55195117e-02\n",
            "  1.30409235e-02  4.62137759e-02 -1.29379882e-02  4.29107063e-02\n",
            " -8.32869858e-03  8.16422328e-03  6.18163198e-02 -2.42102202e-02\n",
            "  5.30796964e-03  5.58978133e-02  4.98896427e-02  3.47685106e-02\n",
            " -7.17519037e-03  1.98417827e-02  2.15068981e-02 -8.55922177e-02\n",
            " -4.41659428e-02  2.56719980e-02 -5.36422320e-02  2.86921915e-02\n",
            " -3.75566483e-02 -8.61203969e-02 -7.37674385e-02  9.83738378e-02\n",
            "  2.79736817e-02  1.51086645e-02 -6.12781942e-02  7.05660656e-02\n",
            " -5.04608778e-03  5.60577177e-02  2.26505548e-02 -2.16067377e-02\n",
            "  3.39270122e-02 -3.91953513e-02  4.61027287e-02 -3.05536371e-02\n",
            " -8.71735532e-03 -1.78834889e-02 -1.64443795e-02  4.11647484e-02\n",
            "  1.02097644e-02 -3.33576687e-02  1.73528884e-02  4.09878604e-02\n",
            " -5.37051968e-02  2.80056447e-02  5.43995574e-03 -1.10621508e-02\n",
            "  1.43619115e-02 -6.74622804e-02 -3.82045768e-02  1.31197646e-02\n",
            " -3.17143612e-02 -5.30385412e-02  9.00995433e-02 -2.61987131e-02\n",
            "  2.40429286e-02  7.42768943e-02  9.54649225e-02 -6.84135929e-02\n",
            "  2.52895392e-02 -7.59340897e-02  4.48344909e-02  2.42151916e-02\n",
            " -3.84864733e-02  6.27673045e-03 -2.84105539e-02 -4.88132685e-02\n",
            "  4.05891873e-02 -1.19405046e-01  7.24508911e-02  1.75755732e-02\n",
            "  2.61664558e-02  2.44765263e-02 -2.38367729e-02 -4.07171622e-02\n",
            " -6.09626584e-02 -3.62792127e-02  2.50614155e-02  1.57232881e-02\n",
            " -2.63323225e-02 -6.83947951e-02  1.56761464e-02  3.29430550e-02\n",
            " -6.79702312e-02 -8.30951333e-02  2.01199157e-03 -1.10320570e-02\n",
            "  3.93057358e-04  5.29648699e-02  5.22367433e-02 -4.15584072e-02\n",
            "  9.39530227e-03  5.45223523e-03 -1.87565722e-02 -5.89211471e-02\n",
            "  1.54981175e-02 -1.53781669e-02  4.27494496e-02  8.70100595e-03\n",
            "  1.36813626e-03 -2.67928485e-02 -8.40871111e-02 -6.75299168e-02\n",
            " -5.48406737e-03  1.24273654e-02 -1.37878014e-02  3.51750338e-33\n",
            "  6.09670877e-02 -7.07008168e-02  3.72065566e-02  4.95681167e-02\n",
            " -8.03607702e-03 -1.80213153e-02 -6.66902494e-03 -1.01700686e-01\n",
            "  8.41047987e-02 -9.85648111e-02 -2.87119225e-02  4.78673689e-02\n",
            "  1.29369181e-02  7.85315409e-02  1.38764111e-02 -4.27744649e-02\n",
            " -5.52721396e-02  1.04604766e-01 -7.04883635e-02  1.31128773e-01\n",
            " -4.47562449e-02  6.50058780e-03  7.44548813e-03 -1.04395077e-02\n",
            " -1.65027529e-02  3.59688699e-02  2.40561776e-02 -5.09847514e-02\n",
            "  3.97957454e-04  1.68019012e-02  2.07579392e-03  1.78635959e-02\n",
            " -2.39374097e-02 -5.11021353e-02 -1.59731845e-03  2.56298445e-02\n",
            " -1.72902104e-02  1.44413300e-02 -8.17719176e-02 -6.20545186e-02\n",
            " -4.85661030e-02  1.29949590e-02  5.76285981e-02  6.39887080e-02\n",
            "  7.73621127e-02 -4.34316620e-02  1.79560408e-02  2.89565921e-02\n",
            " -4.09835530e-03 -1.12505760e-02 -6.95177317e-02  8.27539787e-02\n",
            " -1.03433907e-01 -5.42967767e-02  6.03367714e-03 -3.49593163e-02\n",
            " -5.09777181e-02 -2.84789642e-03  6.31691096e-03 -2.56194770e-02\n",
            "  6.52182102e-02  1.22200567e-02  5.96634895e-02 -9.67141092e-02\n",
            "  5.06220460e-02  6.82660490e-02 -4.64875475e-02 -2.81020831e-02\n",
            "  1.34899113e-02  7.26489946e-02  3.62890325e-02  4.29860838e-02\n",
            " -5.61831743e-02  4.88702469e-02 -3.03096995e-02  9.29510407e-03\n",
            " -4.43784036e-02 -1.11176539e-02  5.89787960e-02  2.22308040e-02\n",
            " -4.02116869e-03 -1.09844971e-02  2.23270245e-02  1.78354830e-02\n",
            "  3.22433934e-02  3.02712433e-03  4.64395881e-02  5.37894554e-02\n",
            "  2.73056235e-02 -1.19482681e-01 -4.00750190e-02  7.20427930e-03\n",
            "  3.96210514e-02  6.12756535e-02  1.04038365e-01 -6.41994697e-33\n",
            " -4.83011268e-02  3.48319560e-02 -6.52212882e-03 -4.30508517e-02\n",
            " -5.31476596e-03 -5.59229888e-02  2.71540172e-02  3.39888223e-02\n",
            "  9.28480849e-02 -1.84277706e-02 -1.06175337e-03 -6.50140224e-03\n",
            "  1.72906555e-02  4.80880365e-02 -1.04326010e-01 -9.09438357e-03\n",
            " -1.95843242e-02 -1.03048071e-01 -6.79973662e-02  6.64086789e-02\n",
            " -4.56711911e-02 -2.82152481e-02 -2.55928449e-02  5.30970432e-02\n",
            "  2.76499819e-02  2.11446267e-02 -4.14473079e-02  2.50931494e-02\n",
            "  7.59490877e-02 -1.38599008e-01 -7.24287033e-02  2.25643627e-02\n",
            " -3.62467989e-02  7.19476044e-02 -3.99556533e-02 -3.55545580e-02\n",
            "  2.66003851e-02 -2.93709803e-02 -1.26012368e-02 -6.89749718e-02\n",
            "  1.18077822e-01 -8.76870677e-02  4.61898595e-02  4.96884845e-02\n",
            "  3.51354815e-02  5.85299321e-02  2.42347773e-02  3.45735550e-02\n",
            " -8.17814097e-02  3.74129857e-03 -8.32630973e-03  1.02257775e-02\n",
            "  1.92249827e-02  9.28164572e-02 -1.20547377e-02 -3.57851312e-02\n",
            "  1.63705647e-03 -6.99996278e-02 -1.14636421e-01 -3.21828155e-03\n",
            " -1.20947836e-02  2.32154056e-02 -2.05099694e-02  2.43034717e-02\n",
            " -1.24503821e-02 -9.97576788e-02  2.51604002e-02 -9.34205651e-02\n",
            "  3.27850282e-02 -4.60133739e-02 -4.98905629e-02 -7.08955228e-02\n",
            " -1.08047351e-01 -1.14290066e-01  2.86016911e-02 -2.72790994e-03\n",
            "  1.22068161e-02  1.37724904e-02 -5.34348413e-02  7.10951313e-02\n",
            " -3.71197797e-03 -3.20452228e-02 -1.02493092e-01  1.79315731e-02\n",
            "  1.42837036e-02  5.44793205e-03 -3.14316489e-02 -8.45776424e-02\n",
            " -3.13674808e-02  8.82298276e-02 -1.14132360e-01  5.25960736e-02\n",
            " -1.26471937e-01 -2.81586517e-02 -1.07997477e-01 -4.81871254e-08\n",
            "  4.08673473e-02  6.87888637e-02 -9.04946588e-03 -2.80237012e-02\n",
            "  8.92761350e-02 -8.56921077e-02 -6.07232265e-02  1.98589396e-02\n",
            "  2.26558950e-02  4.55475450e-02 -1.09400768e-02  1.53727114e-01\n",
            "  7.97231048e-02 -6.58240169e-02  1.79402288e-02  7.23188668e-02\n",
            " -2.09381357e-02  4.36613224e-02 -5.29320771e-03  3.76893766e-02\n",
            " -4.16380279e-02  1.07730692e-02 -3.48366681e-03  1.51703870e-02\n",
            " -4.86620329e-02  1.12483256e-01 -4.93541695e-02 -1.82135161e-02\n",
            "  1.69136077e-02 -9.39251203e-03  2.27469634e-02 -7.95346312e-03\n",
            "  2.14832425e-02 -1.27397301e-02 -3.55417430e-02 -3.26866135e-02\n",
            "  9.83248278e-03  2.30827853e-02  6.60947412e-02 -5.04613966e-02\n",
            "  8.61782283e-02  1.00384718e-02 -1.06772119e-02  5.38500100e-02\n",
            "  2.15463918e-02 -1.30482137e-01 -1.14703886e-02 -1.27487222e-03\n",
            " -2.67797392e-02 -5.67817576e-02 -6.42776936e-02 -3.33167501e-02\n",
            "  6.52088970e-02 -3.16595584e-02  1.08302403e-02  9.22770426e-03\n",
            " -1.98775157e-02 -5.12246639e-02 -4.26975777e-04  5.84497452e-02\n",
            "  4.69063269e-03 -7.95455873e-02 -2.74637155e-02  8.54817107e-02]\n",
            "Size of the embedding:  (384,)\n"
          ]
        }
      ]
    },
    {
      "cell_type": "markdown",
      "source": [
        "# Vector store using FAISS"
      ],
      "metadata": {
        "id": "FWwcO5jX9-hu"
      }
    },
    {
      "cell_type": "code",
      "source": [
        "vectorstore = FAISS.from_documents(docs_after_split, huggingface_embeddings)"
      ],
      "metadata": {
        "id": "DYZaJRd3xYgk"
      },
      "execution_count": null,
      "outputs": []
    },
    {
      "cell_type": "code",
      "source": [
        "query = \"\"\"What were the trends in median household income across\n",
        "           different states in the United States between 2021 and 2022.\"\"\"\n",
        "\n",
        "relevant_documents = vectorstore.similarity_search(query)\n",
        "print(f'There are {len(relevant_documents)} documents retrieved which are relevant to the query. Display the first one:\\n')\n",
        "print(relevant_documents[0].page_content)"
      ],
      "metadata": {
        "colab": {
          "base_uri": "https://localhost:8080/"
        },
        "id": "nlDfO9hFxiJ4",
        "outputId": "d5874ac0-3d01-4e36-9332-6768ca7521e6"
      },
      "execution_count": null,
      "outputs": [
        {
          "output_type": "stream",
          "name": "stdout",
          "text": [
            "There are 4 documents retrieved which are relevant to the query. Display the first one:\n",
            "\n",
            "hold income in 2022 was $24,112 \n",
            "(Table 1 and Figure 2). Median \n",
            "household income was lower than \n",
            "the U.S. median in 30 states and \n",
            "Puerto Rico. It was higher than the \n",
            "U.S. median in 17 states and the \n",
            "District of Columbia. The medians \n",
            "for Arizona, Oregon, and Vermont were not statistically different from \n",
            "the U.S. median.\n",
            "From 2021 to 2022, five states—\n",
            "Alabama, Alaska, Delaware, Florida, \n",
            "and Utah—showed a statistically \n",
            "significant increase in real median \n",
            "household income; 17 states \n",
            "showed a decrease. Real median \n",
            "household income in 2022 was not \n",
            "statistically different from that in \n",
            "2021 for 28 states, the District of \n",
            "Columbia, and Puerto Rico  \n",
            "(Table 1).\n"
          ]
        }
      ]
    },
    {
      "cell_type": "code",
      "source": [
        "# Use similarity searching algorithm and return 3 most relevant documents.\n",
        "retriever = vectorstore.as_retriever(search_type=\"similarity\", search_kwargs={\"k\": 3})"
      ],
      "metadata": {
        "id": "84Fs4lQ3xqnE"
      },
      "execution_count": null,
      "outputs": []
    },
    {
      "cell_type": "markdown",
      "source": [
        "# HuggingFace API"
      ],
      "metadata": {
        "id": "6p7wTLTtnAjM"
      }
    },
    {
      "cell_type": "code",
      "source": [
        "from google.colab import userdata"
      ],
      "metadata": {
        "id": "YYwU3_Sd0lSh"
      },
      "execution_count": null,
      "outputs": []
    },
    {
      "cell_type": "code",
      "source": [
        "os.environ[\"HUGGINGFACEHUB_API_TOKEN\"] = userdata.get('HF_TOKEN')"
      ],
      "metadata": {
        "id": "gZ-yVyhk0cpC"
      },
      "execution_count": null,
      "outputs": []
    },
    {
      "cell_type": "code",
      "source": [
        "from langchain_community.llms import HuggingFaceHub\n",
        "\n",
        "hf = HuggingFaceHub(\n",
        "    repo_id = \"openai-community/gpt2\",\n",
        "    model_kwargs = {\"temperature\":0.1, \"max_length\":500},\n",
        "    huggingfacehub_api_token = os.getenv(\"HUGGINGFACEHUB_API_TOKEN\")\n",
        ")\n",
        "query = \"\"\"What were the trends in median household income across different states in the United States between 2021 and 2022.\"\"\"  # Sample question, change to other questions you are interested in.\n",
        "hf.invoke(query)"
      ],
      "metadata": {
        "colab": {
          "base_uri": "https://localhost:8080/",
          "height": 142
        },
        "id": "04rcYq9Oxuc6",
        "outputId": "4def23c5-8b46-4d4f-8ab7-84c5049fe815"
      },
      "execution_count": null,
      "outputs": [
        {
          "output_type": "stream",
          "name": "stderr",
          "text": [
            "/usr/local/lib/python3.10/dist-packages/langchain_core/_api/deprecation.py:139: LangChainDeprecationWarning: The class `HuggingFaceHub` was deprecated in LangChain 0.0.21 and will be removed in 0.3.0. An updated version of the class exists in the langchain-huggingface package and should be used instead. To use it run `pip install -U langchain-huggingface` and import as `from langchain_huggingface import HuggingFaceEndpoint`.\n",
            "  warn_deprecated(\n"
          ]
        },
        {
          "output_type": "execute_result",
          "data": {
            "text/plain": [
              "'What were the trends in median household income across different states in the United States between 2021 and 2022.\\n\\nThe median household income in the United States is $37,000 higher than the median household income in the United States in 2016.\\n\\nThe median household income in the United States is $36,000 higher than the median household income in the United States in 2016.\\n\\nThe median household income in the United States is $36,000 higher than the median household income in the United States in 2016.\\n\\nThe median household income in the United States is $36,000 higher'"
            ],
            "application/vnd.google.colaboratory.intrinsic+json": {
              "type": "string"
            }
          },
          "metadata": {},
          "execution_count": 13
        }
      ]
    },
    {
      "cell_type": "markdown",
      "source": [
        "# HuggingFace Pipeline"
      ],
      "metadata": {
        "id": "b61zg9oBm7hC"
      }
    },
    {
      "cell_type": "code",
      "source": [
        "from langchain_community.llms.huggingface_pipeline import HuggingFacePipeline\n",
        "\n",
        "hf = HuggingFacePipeline.from_model_id(\n",
        "    # model_id=\"mistralai/Mistral-7B-Instruct-v0.2\",\n",
        "    model_id=\"openai-community/gpt2\",\n",
        "    task=\"text-generation\",\n",
        "    pipeline_kwargs={\"temperature\": 0.3, \"max_new_tokens\": 300}\n",
        ")\n",
        "\n",
        "llm = hf\n",
        "llm.invoke(query)"
      ],
      "metadata": {
        "colab": {
          "base_uri": "https://localhost:8080/",
          "height": 177
        },
        "id": "EPFjVQzHx5q4",
        "outputId": "78c02ad2-baab-4286-e155-109aeea313a0"
      },
      "execution_count": null,
      "outputs": [
        {
          "output_type": "stream",
          "name": "stderr",
          "text": [
            "WARNING:langchain_community.llms.huggingface_pipeline:Device has 1 GPUs available. Provide device={deviceId} to `from_model_id` to use availableGPUs for execution. deviceId is -1 (default) for CPU and can be a positive integer associated with CUDA device id.\n"
          ]
        },
        {
          "output_type": "execute_result",
          "data": {
            "text/plain": [
              "'What were the trends in median household income across different states in the United States between 2021 and 2022.\\n\\nThe next chart shows median household income across the United States between 2021 and 2022, which is the median household income for all states.\\n\\nThe next chart shows median household income across all states, which is the median household income for all states.\\n\\nThe next chart shows median household income across all states, which is the median household income for all states.\\n\\nThe next chart shows median household income across all states, which is the median household income for all states.\\n\\nThe next chart shows median household income across all states, which is the median household income for all states.\\n\\nThe next chart shows median household income across all states, which is the median household income for all states.\\n\\nThe next chart shows median household income across all states, which is the median household income for all states.\\n\\nThe next chart shows median household income across all states, which is the median household income for all states.\\n\\nThe next chart shows median household income across all states, which is the median household income for all states.\\n\\nThe next chart shows median household income across all states, which is the median household income for all states.\\n\\nThe next chart shows median household income across all states, which is the median household income for all states.\\n\\nThe next chart shows median household income across all states, which is the median household income for all states.\\n\\nThe next chart shows median household income across all states, which is the median household income'"
            ],
            "application/vnd.google.colaboratory.intrinsic+json": {
              "type": "string"
            }
          },
          "metadata": {},
          "execution_count": 20
        }
      ]
    },
    {
      "cell_type": "code",
      "source": [
        "llm = hf"
      ],
      "metadata": {
        "id": "mCzo-yWzrZXi"
      },
      "execution_count": null,
      "outputs": []
    },
    {
      "cell_type": "code",
      "source": [
        "prompt_template = \"\"\"Use the following pieces of context to answer the question at the end. Please follow the following rules:\n",
        "1. If you don't know the answer, don't try to make up an answer. Just say \"I can't find the final answer but you may want to check the following links\".\n",
        "2. If you find the answer, write the answer in a concise way with five sentences maximum.\n",
        "\n",
        "{context}\n",
        "\n",
        "Question: {question}\n",
        "\n",
        "Helpful Answer:\n",
        "\"\"\"\n",
        "\n",
        "PROMPT = PromptTemplate(\n",
        " template=prompt_template, input_variables=[\"context\", \"question\"]\n",
        ")"
      ],
      "metadata": {
        "id": "LTRBxgUwx_CA"
      },
      "execution_count": null,
      "outputs": []
    },
    {
      "cell_type": "code",
      "source": [
        "retrievalQA = RetrievalQA.from_chain_type(\n",
        "    llm=llm,\n",
        "    chain_type=\"stuff\",\n",
        "    retriever=retriever,\n",
        "    return_source_documents=True,\n",
        "    chain_type_kwargs={\"prompt\": PROMPT}\n",
        ")"
      ],
      "metadata": {
        "id": "aRO-R8BRyBir"
      },
      "execution_count": null,
      "outputs": []
    },
    {
      "cell_type": "code",
      "source": [
        "# Call the QA chain with our query.\n",
        "result = retrievalQA.invoke({\"query\": query})\n",
        "print(result['result'])"
      ],
      "metadata": {
        "colab": {
          "base_uri": "https://localhost:8080/"
        },
        "id": "MpqGtbYyyEAE",
        "outputId": "426ac3fb-d8d2-4085-da71-c70d99c89de1"
      },
      "execution_count": null,
      "outputs": [
        {
          "output_type": "stream",
          "name": "stdout",
          "text": [
            "Use the following pieces of context to answer the question at the end. Please follow the following rules:\n",
            "1. If you don't know the answer, don't try to make up an answer. Just say \"I can't find the final answer but you may want to check the following links\".\n",
            "2. If you find the answer, write the answer in a concise way with five sentences maximum.\n",
            "\n",
            "hold income in 2022 was $24,112 \n",
            "(Table 1 and Figure 2). Median \n",
            "household income was lower than \n",
            "the U.S. median in 30 states and \n",
            "Puerto Rico. It was higher than the \n",
            "U.S. median in 17 states and the \n",
            "District of Columbia. The medians \n",
            "for Arizona, Oregon, and Vermont were not statistically different from \n",
            "the U.S. median.\n",
            "From 2021 to 2022, five states—\n",
            "Alabama, Alaska, Delaware, Florida, \n",
            "and Utah—showed a statistically \n",
            "significant increase in real median \n",
            "household income; 17 states \n",
            "showed a decrease. Real median \n",
            "household income in 2022 was not \n",
            "statistically different from that in \n",
            "2021 for 28 states, the District of \n",
            "Columbia, and Puerto Rico  \n",
            "(Table 1).\n",
            "\n",
            "Community Survey,” Applied Demography \n",
            "in the 21st Century, Steven H. Murdock \n",
            "and David A. Swanson (eds.), Springer, \n",
            "Netherlands, 2008.topics, visit <www.census.gov/\n",
            "programs-surveys/acs>.\n",
            "HIGHLIGHTS\n",
            "• Median household income in the United States was $74,755 in 2022, a decline of 0.8 percent from last year, after adjusting for inflation.\n",
            "6\n",
            "• Real median household income increased in five states and decreased in 17 states from 2021 to 2022. Twenty-eight states, the District of Columbia, and \n",
            "Puerto Rico showed no statisti-\n",
            "cally significant differences. \n",
            "⁶ All income estimates in this report \n",
            "are inflation-adjusted to 2022 dollars. \n",
            "Inflation adjustments are computed using\n",
            "\n",
            "the Gini Index is available) to 2022, \n",
            "the index increased 4.7 percent, \n",
            "from 0.464 to 0.486.\n",
            "SUMMARY\n",
            "The U.S. median household income \n",
            "declined 0.8 percent to $74,755 \n",
            "from 2021 to 2022. Between 2021 \n",
            "and 2022, five states—Alabama, \n",
            "Alaska, Delaware, Florida, and \n",
            "Utah—showed a statistically signifi -\n",
            "cant increase in real median house -\n",
            "hold income. Seventeen states \n",
            "showed a decrease. Real median \n",
            "household income in 2022 was not statistically different from that in \n",
            "2021 for 28 states, the District of \n",
            "Columbia, and Puerto Rico. This \n",
            "brief also provided information \n",
            "on changes in median household \n",
            "income across metropolitan areas, \n",
            "race and Hispanic origin, and age\n",
            "\n",
            "Question: What were the trends in median household income across different states in the United States between 2021 and 2022.\n",
            "\n",
            "Helpful Answer:\n",
            "\n",
            "1. The median household income in the United States was $74,755 in 2022. \n",
            "2. The median household income in the United States was $74,755 in the United States for  \n",
            "the first time in the last decade. \n",
            "3. The median household income in the United States was $74,755 in the United States for the first time in the last decade. \n",
            "4. The median household income in the United States was $74,755 in\n"
          ]
        }
      ]
    },
    {
      "cell_type": "code",
      "source": [
        "relevant_docs = result['source_documents']\n",
        "print(f'There are {len(relevant_docs)} documents retrieved which are relevant to the query.')\n",
        "print(\"*\" * 100)\n",
        "for i, doc in enumerate(relevant_docs):\n",
        "    print(f\"Relevant Document #{i+1}:\\nSource file: {doc.metadata['source']}, Page: {doc.metadata['page']}\\nContent: {doc.page_content}\")\n",
        "    print(\"-\"*100)\n",
        "    print(f'There are {len(relevant_docs)} documents retrieved which are relevant to the query.')"
      ],
      "metadata": {
        "colab": {
          "base_uri": "https://localhost:8080/"
        },
        "id": "xgTRY7J_yGqz",
        "outputId": "a6949cac-2d61-445e-ac6a-fdfa9172388b"
      },
      "execution_count": null,
      "outputs": [
        {
          "output_type": "stream",
          "name": "stdout",
          "text": [
            "There are 3 documents retrieved which are relevant to the query.\n",
            "****************************************************************************************************\n",
            "Relevant Document #1:\n",
            "Source file: us_census/acsbr-017.pdf, Page: 3\n",
            "Content: hold income in 2022 was $24,112 \n",
            "(Table 1 and Figure 2). Median \n",
            "household income was lower than \n",
            "the U.S. median in 30 states and \n",
            "Puerto Rico. It was higher than the \n",
            "U.S. median in 17 states and the \n",
            "District of Columbia. The medians \n",
            "for Arizona, Oregon, and Vermont were not statistically different from \n",
            "the U.S. median.\n",
            "From 2021 to 2022, five states—\n",
            "Alabama, Alaska, Delaware, Florida, \n",
            "and Utah—showed a statistically \n",
            "significant increase in real median \n",
            "household income; 17 states \n",
            "showed a decrease. Real median \n",
            "household income in 2022 was not \n",
            "statistically different from that in \n",
            "2021 for 28 states, the District of \n",
            "Columbia, and Puerto Rico  \n",
            "(Table 1).\n",
            "----------------------------------------------------------------------------------------------------\n",
            "There are 3 documents retrieved which are relevant to the query.\n",
            "Relevant Document #2:\n",
            "Source file: us_census/acsbr-017.pdf, Page: 1\n",
            "Content: Community Survey,” Applied Demography \n",
            "in the 21st Century, Steven H. Murdock \n",
            "and David A. Swanson (eds.), Springer, \n",
            "Netherlands, 2008.topics, visit <www.census.gov/\n",
            "programs-surveys/acs>.\n",
            "HIGHLIGHTS\n",
            "• Median household income in the United States was $74,755 in 2022, a decline of 0.8 percent from last year, after adjusting for inflation.\n",
            "6\n",
            "• Real median household income increased in five states and decreased in 17 states from 2021 to 2022. Twenty-eight states, the District of Columbia, and \n",
            "Puerto Rico showed no statisti-\n",
            "cally significant differences. \n",
            "⁶ All income estimates in this report \n",
            "are inflation-adjusted to 2022 dollars. \n",
            "Inflation adjustments are computed using\n",
            "----------------------------------------------------------------------------------------------------\n",
            "There are 3 documents retrieved which are relevant to the query.\n",
            "Relevant Document #3:\n",
            "Source file: us_census/acsbr-017.pdf, Page: 7\n",
            "Content: the Gini Index is available) to 2022, \n",
            "the index increased 4.7 percent, \n",
            "from 0.464 to 0.486.\n",
            "SUMMARY\n",
            "The U.S. median household income \n",
            "declined 0.8 percent to $74,755 \n",
            "from 2021 to 2022. Between 2021 \n",
            "and 2022, five states—Alabama, \n",
            "Alaska, Delaware, Florida, and \n",
            "Utah—showed a statistically signifi -\n",
            "cant increase in real median house -\n",
            "hold income. Seventeen states \n",
            "showed a decrease. Real median \n",
            "household income in 2022 was not statistically different from that in \n",
            "2021 for 28 states, the District of \n",
            "Columbia, and Puerto Rico. This \n",
            "brief also provided information \n",
            "on changes in median household \n",
            "income across metropolitan areas, \n",
            "race and Hispanic origin, and age\n",
            "----------------------------------------------------------------------------------------------------\n",
            "There are 3 documents retrieved which are relevant to the query.\n"
          ]
        }
      ]
    }
  ]
}